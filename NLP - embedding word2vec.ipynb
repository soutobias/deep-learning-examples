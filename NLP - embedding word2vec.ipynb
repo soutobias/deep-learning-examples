{
 "cells": [
  {
   "cell_type": "markdown",
   "metadata": {},
   "source": [
    "# NLP - embedding word2vec"
   ]
  },
  {
   "cell_type": "code",
   "execution_count": 3,
   "metadata": {},
   "outputs": [],
   "source": [
    "import tensorflow_datasets as tfds\n",
    "from tensorflow.keras.preprocessing.text import text_to_word_sequence\n",
    "from gensim.models import Word2Vec"
   ]
  },
  {
   "cell_type": "code",
   "execution_count": 2,
   "metadata": {},
   "outputs": [],
   "source": [
    "def load_data(percentage_of_sentences=None):\n",
    "    train_data, test_data = tfds.load(name=\"imdb_reviews\", split=[\"train\", \"test\"], batch_size=-1, as_supervised=True)\n",
    "\n",
    "    train_sentences, y_train = tfds.as_numpy(train_data)\n",
    "    test_sentences, y_test = tfds.as_numpy(test_data)\n",
    "    \n",
    "    # Take only a given percentage of the entire data\n",
    "    if percentage_of_sentences is not None:\n",
    "        assert(percentage_of_sentences> 0 and percentage_of_sentences<=100)\n",
    "        \n",
    "        len_train = int(percentage_of_sentences/100*len(train_sentences))\n",
    "        train_sentences, y_train = train_sentences[:len_train], y_train[:len_train]\n",
    "  \n",
    "        len_test = int(percentage_of_sentences/100*len(test_sentences))\n",
    "        test_sentences, y_test = test_sentences[:len_test], y_test[:len_test]\n",
    "    \n",
    "    X_train = [text_to_word_sequence(_.decode(\"utf-8\")) for _ in train_sentences]\n",
    "    X_test = [text_to_word_sequence(_.decode(\"utf-8\")) for _ in test_sentences]\n",
    "    \n",
    "    return X_train, y_train, X_test, y_test\n",
    "\n",
    "X_train, y_train, X_test, y_test = load_data(percentage_of_sentences=10)"
   ]
  },
  {
   "cell_type": "markdown",
   "metadata": {},
   "source": [
    "## Word2vec"
   ]
  },
  {
   "cell_type": "code",
   "execution_count": 4,
   "metadata": {},
   "outputs": [],
   "source": [
    "word2vec = Word2Vec(sentences=X_train)"
   ]
  },
  {
   "cell_type": "code",
   "execution_count": 5,
   "metadata": {
    "tags": [
     "challengify"
    ]
   },
   "outputs": [
    {
     "data": {
      "text/plain": [
       "array([-0.13364062,  0.15041523, -0.19150633,  0.2187058 , -0.01406818,\n",
       "       -0.34920904,  0.00141394,  0.5706544 , -0.20943388, -0.22621362,\n",
       "        0.01463939, -0.34485847, -0.02439873,  0.16945587, -0.03083642,\n",
       "       -0.2451295 ,  0.18742393, -0.25462937, -0.0092235 , -0.3436122 ,\n",
       "        0.1884112 ,  0.07658485,  0.29378095, -0.11073026, -0.02666011,\n",
       "        0.02338655, -0.25449425, -0.0599355 , -0.186066  ,  0.0253413 ,\n",
       "        0.21239057, -0.01285569,  0.17263268, -0.3984698 , -0.16725846,\n",
       "        0.20426191,  0.17115471, -0.16269489, -0.24861552, -0.3116361 ,\n",
       "       -0.14133993, -0.32830966, -0.26248837,  0.2080132 ,  0.29344252,\n",
       "       -0.02447009, -0.16760898, -0.1096155 ,  0.2716104 ,  0.19329774,\n",
       "        0.01489836, -0.22473957, -0.25307456, -0.06551018, -0.21846691,\n",
       "        0.22553138,  0.19902542, -0.05951208, -0.20575923,  0.07214351,\n",
       "        0.1207689 , -0.00614363,  0.02635141,  0.10765271, -0.25436944,\n",
       "        0.20722958, -0.03627525,  0.23768559, -0.33733985,  0.32964292,\n",
       "       -0.22408529,  0.25290608,  0.31292382, -0.23948696,  0.36854842,\n",
       "        0.19479139,  0.00375617,  0.15666334, -0.20958939, -0.10786566,\n",
       "       -0.26970384, -0.21399349, -0.26573303,  0.28499746, -0.16060086,\n",
       "       -0.20383398, -0.00753357,  0.3128893 ,  0.35731414,  0.11297105,\n",
       "        0.18523842,  0.308718  ,  0.01683964,  0.11223685,  0.4502263 ,\n",
       "        0.12060016,  0.26916793, -0.12635224,  0.10165271,  0.00479494],\n",
       "      dtype=float32)"
      ]
     },
     "execution_count": 5,
     "metadata": {},
     "output_type": "execute_result"
    }
   ],
   "source": [
    "word2vec.wv['dog']"
   ]
  },
  {
   "cell_type": "code",
   "execution_count": 6,
   "metadata": {
    "tags": [
     "challengify"
    ]
   },
   "outputs": [
    {
     "data": {
      "text/plain": [
       "[('film', 0.971341609954834),\n",
       " ('show', 0.8336167931556702),\n",
       " ('thing', 0.8297647833824158),\n",
       " ('sequel', 0.8017898797988892),\n",
       " ('series', 0.7847037315368652),\n",
       " ('flick', 0.7821328639984131),\n",
       " ('book', 0.7811017036437988),\n",
       " ('ending', 0.7718184590339661),\n",
       " ('fun', 0.7434617877006531),\n",
       " ('watching', 0.7419548630714417)]"
      ]
     },
     "execution_count": 6,
     "metadata": {},
     "output_type": "execute_result"
    }
   ],
   "source": [
    "word2vec.wv.most_similar('movie', topn=10)"
   ]
  },
  {
   "cell_type": "code",
   "execution_count": 7,
   "metadata": {
    "tags": [
     "challengify"
    ]
   },
   "outputs": [
    {
     "data": {
      "text/plain": [
       "[('film', 0.971341609954834),\n",
       " ('show', 0.8336167931556702),\n",
       " ('thing', 0.8297647833824158),\n",
       " ('sequel', 0.8017898797988892),\n",
       " ('series', 0.7847037315368652),\n",
       " ('flick', 0.7821328639984131),\n",
       " ('book', 0.7811017036437988),\n",
       " ('ending', 0.7718184590339661),\n",
       " ('fun', 0.7434617877006531),\n",
       " ('watching', 0.7419548630714417)]"
      ]
     },
     "execution_count": 7,
     "metadata": {},
     "output_type": "execute_result"
    }
   ],
   "source": [
    "word2vec.wv.most_similar('movie', topn=10)"
   ]
  },
  {
   "cell_type": "code",
   "execution_count": 8,
   "metadata": {
    "tags": [
     "challengify"
    ]
   },
   "outputs": [
    {
     "data": {
      "text/plain": [
       "[('cat', 1.0),\n",
       " ('pursuit', 0.9849877953529358),\n",
       " ('hunter', 0.9848315119743347),\n",
       " ('mouth', 0.9841893315315247),\n",
       " ('beetle', 0.9836503267288208),\n",
       " ('brettschneider', 0.983066976070404),\n",
       " ('mate', 0.9829167723655701),\n",
       " ('anger', 0.981568455696106),\n",
       " (\"family's\", 0.981535792350769),\n",
       " ('machine', 0.9804127812385559)]"
      ]
     },
     "execution_count": 8,
     "metadata": {},
     "output_type": "execute_result"
    }
   ],
   "source": [
    "word_embedding = word2vec.wv['cat']\n",
    "word2vec.wv.similar_by_vector(word_embedding)"
   ]
  },
  {
   "cell_type": "code",
   "execution_count": 9,
   "metadata": {
    "tags": [
     "challengify"
    ]
   },
   "outputs": [
    {
     "data": {
      "text/plain": [
       "array([ 5.57097793e-02, -7.32366741e-03,  1.65491521e-01,  3.58830810e-01,\n",
       "        2.87445784e-02, -2.37224340e-01, -3.44025493e-01, -3.41679677e-02,\n",
       "       -7.13418722e-02, -2.33952403e-01,  2.44847968e-01,  1.41833663e-01,\n",
       "        4.06437218e-02, -1.61210477e-01, -2.72908151e-01,  2.90893734e-01,\n",
       "       -3.98859978e-01,  2.44817048e-01,  1.60467088e-01,  2.74570942e-01,\n",
       "       -6.62795901e-02,  1.70966938e-01, -3.01094055e-02,  1.42659232e-01,\n",
       "       -3.13529670e-02,  5.92669845e-03, -1.91088408e-01,  3.81416142e-01,\n",
       "        2.69961655e-02, -5.32444417e-01, -4.46149349e-01,  1.20966621e-01,\n",
       "        3.61466169e-01,  2.82432914e-01, -1.87411830e-01, -2.33152986e-01,\n",
       "        3.59142840e-01, -4.08710986e-01, -1.93633646e-01,  5.84474146e-01,\n",
       "       -2.74925828e-02, -3.95717025e-02, -2.02594340e-01, -1.86217308e-01,\n",
       "        2.49952257e-01, -9.72493142e-02,  3.90564293e-01, -1.44666433e-01,\n",
       "       -1.17019594e-01,  1.50686622e-01, -3.76390815e-02,  6.07988238e-02,\n",
       "       -5.51718831e-01, -9.52749848e-02, -8.75443816e-02, -5.43147326e-04,\n",
       "        3.52541879e-02, -6.54074699e-02,  2.62330711e-01,  1.53708577e-01,\n",
       "        1.84983313e-01,  2.22380161e-01, -8.40261579e-02, -3.27751398e-01,\n",
       "        1.57879710e-01,  1.10659719e-01, -2.62652218e-01, -1.80299670e-01,\n",
       "        3.81755561e-01,  3.34315270e-01, -8.29101741e-01, -2.63324559e-01,\n",
       "        1.95874467e-01,  2.11478710e-01, -2.41223693e-01, -1.14725217e-01,\n",
       "       -6.63817227e-02, -4.79046106e-02,  1.09235555e-01,  6.34666085e-02,\n",
       "        2.33278155e-01, -2.45066971e-01, -4.45202231e-01,  2.78872848e-01,\n",
       "       -3.91902149e-01,  3.43079746e-01,  8.55166912e-02, -3.57115269e-02,\n",
       "        2.35165298e-01, -5.19930899e-01, -6.76596463e-01,  1.43508166e-02,\n",
       "       -2.02798620e-02,  4.75782394e-01, -3.36778760e-01, -3.38441014e-01,\n",
       "        2.85100639e-01,  6.55040979e-01, -7.10307658e-01, -4.26818132e-02],\n",
       "      dtype=float32)"
      ]
     },
     "execution_count": 9,
     "metadata": {},
     "output_type": "execute_result"
    }
   ],
   "source": [
    "word2vec.wv['good'] - word2vec.wv['bad']"
   ]
  },
  {
   "cell_type": "code",
   "execution_count": 10,
   "metadata": {
    "tags": [
     "challengify"
    ]
   },
   "outputs": [],
   "source": [
    "v_queen = word2vec.wv['good']\n",
    "v_king = word2vec.wv['bad']\n",
    "v_man = word2vec.wv['stupid']\n",
    "\n",
    "v_result = v_queen - v_king + v_man"
   ]
  },
  {
   "cell_type": "code",
   "execution_count": 11,
   "metadata": {
    "tags": [
     "challengify"
    ]
   },
   "outputs": [
    {
     "data": {
      "text/plain": [
       "[('nice', 0.8123105764389038),\n",
       " ('spark', 0.8013906478881836),\n",
       " ('decent', 0.7989938259124756),\n",
       " ('good', 0.7913230657577515),\n",
       " ('worthwhile', 0.7684338092803955),\n",
       " ('great', 0.763630747795105),\n",
       " ('wonderful', 0.7629781365394592),\n",
       " ('smart', 0.7593650221824646),\n",
       " ('posted', 0.7563799619674683),\n",
       " ('poor', 0.7507991790771484)]"
      ]
     },
     "execution_count": 11,
     "metadata": {},
     "output_type": "execute_result"
    }
   ],
   "source": [
    "word2vec.wv.similar_by_vector(v_result)"
   ]
  }
 ],
 "metadata": {
  "kernelspec": {
   "display_name": "Python 3",
   "language": "python",
   "name": "python3"
  },
  "language_info": {
   "codemirror_mode": {
    "name": "ipython",
    "version": 3
   },
   "file_extension": ".py",
   "mimetype": "text/x-python",
   "name": "python",
   "nbconvert_exporter": "python",
   "pygments_lexer": "ipython3",
   "version": "3.8.6"
  },
  "toc": {
   "base_numbering": 1,
   "nav_menu": {},
   "number_sections": true,
   "sideBar": true,
   "skip_h1_title": false,
   "title_cell": "Table of Contents",
   "title_sidebar": "Contents",
   "toc_cell": false,
   "toc_position": {},
   "toc_section_display": true,
   "toc_window_display": false
  }
 },
 "nbformat": 4,
 "nbformat_minor": 2
}
