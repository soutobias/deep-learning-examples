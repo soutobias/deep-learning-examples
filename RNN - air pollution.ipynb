{
 "cells": [
  {
   "cell_type": "markdown",
   "metadata": {},
   "source": [
    "# RNN - Air Pollution"
   ]
  },
  {
   "cell_type": "code",
   "execution_count": 58,
   "metadata": {},
   "outputs": [],
   "source": [
    "import pandas as pd\n",
    "import numpy as np\n",
    "import matplotlib.pyplot as plt\n",
    "\n",
    "from tensorflow.keras.layers import SimpleRNN, LSTM, GRU\n",
    "from tensorflow.keras.models import Sequential\n",
    "from tensorflow.keras import layers\n",
    "from tensorflow.keras import optimizers, metrics\n",
    "from tensorflow.keras.layers.experimental.preprocessing import Normalization\n",
    "from tensorflow.keras.callbacks import EarlyStopping\n",
    "from tensorflow.keras.preprocessing.sequence import pad_sequences"
   ]
  },
  {
   "cell_type": "code",
   "execution_count": 27,
   "metadata": {},
   "outputs": [],
   "source": [
    "df = pd.read_csv('data/air_pollution.txt')"
   ]
  },
  {
   "cell_type": "code",
   "execution_count": 28,
   "metadata": {},
   "outputs": [],
   "source": [
    "df.set_index('No', inplace=True)\n",
    "df = df[['pm2.5', 'TEMP', 'DEWP', 'PRES', 'Ir', 'Iws', 'Is']]"
   ]
  },
  {
   "cell_type": "code",
   "execution_count": 29,
   "metadata": {},
   "outputs": [
    {
     "data": {
      "text/plain": [
       "<AxesSubplot:xlabel='No'>"
      ]
     },
     "execution_count": 29,
     "metadata": {},
     "output_type": "execute_result"
    },
    {
     "data": {
      "image/png": "[encoded data removed]",
      "text/plain": [
       "<Figure size 432x288 with 1 Axes>"
      ]
     },
     "metadata": {
      "needs_background": "light"
     },
     "output_type": "display_data"
    }
   ],
   "source": [
    "df.DEWP.plot()"
   ]
  },
  {
   "cell_type": "markdown",
   "metadata": {},
   "source": [
    "Normalize variables"
   ]
  },
  {
   "cell_type": "code",
   "execution_count": 30,
   "metadata": {},
   "outputs": [],
   "source": [
    "df['pm2.5'] = df['pm2.5']/1000\n",
    "df['PRES'] = df['PRES']/1000"
   ]
  },
  {
   "cell_type": "code",
   "execution_count": 31,
   "metadata": {},
   "outputs": [],
   "source": [
    "def subsample_sequence(df, length):\n",
    "    value = df.sample(1).index[0]\n",
    "    idx_position = df.index.get_loc(value)\n",
    "    if len(df) - length < idx_position:\n",
    "        return subsample_sequence(df, length)    \n",
    "    return df.loc[value:value+length-1]\n",
    "\n",
    "df_subsample = subsample_sequence(df, length=10)"
   ]
  },
  {
   "cell_type": "code",
   "execution_count": 37,
   "metadata": {},
   "outputs": [],
   "source": [
    "def split_subsample_sequence(df, length):\n",
    "    df_subsample = subsample_sequence(df, length)\n",
    "    X_subsample = df_subsample[0:-1]\n",
    "    y_subsample = df_subsample[-1:]['pm2.5'].iloc[0]\n",
    "    if y_subsample == np.nan:\n",
    "        return split_subsample_sequence(df, length)\n",
    "    if X_subsample.isna()['pm2.5'].sum() == 0:\n",
    "        pass\n",
    "    elif X_subsample.isna()['pm2.5'].sum() == length:\n",
    "        X_subsample.fillna(df['pm2.5'].mean(), inplace=True)\n",
    "    else:\n",
    "        X_subsample.fillna(X_subsample['pm2.5'].mean(), inplace=True)\n",
    "    return X_subsample.to_numpy(), y_subsample\n",
    "\n",
    "(X_sample, y_sample) = split_subsample_sequence(df, 10)"
   ]
  },
  {
   "cell_type": "code",
   "execution_count": 38,
   "metadata": {},
   "outputs": [],
   "source": [
    "def get_X_y(df, number_of_sequences, length):\n",
    "    for i in range(number_of_sequences):\n",
    "        df_subsample = split_subsample_sequence(df, length)\n",
    "        if i == 0:\n",
    "            X =np.vstack(([df_subsample[0]],))\n",
    "            y =np.vstack(([df_subsample[1]],))\n",
    "        else:\n",
    "            X =np.vstack(([df_subsample[0]],X))\n",
    "            y =np.vstack(([df_subsample[1]],y))\n",
    "    return X, y[:,0]"
   ]
  },
  {
   "cell_type": "code",
   "execution_count": 39,
   "metadata": {},
   "outputs": [],
   "source": [
    "X, y = get_X_y(df, 100, 21)"
   ]
  },
  {
   "cell_type": "code",
   "execution_count": 40,
   "metadata": {},
   "outputs": [
    {
     "data": {
      "text/plain": [
       "(100, 20, 7)"
      ]
     },
     "execution_count": 40,
     "metadata": {},
     "output_type": "execute_result"
    }
   ],
   "source": [
    "X.shape"
   ]
  },
  {
   "cell_type": "code",
   "execution_count": 41,
   "metadata": {},
   "outputs": [],
   "source": [
    "X, y = get_X_y(df, 2000, 21)"
   ]
  },
  {
   "cell_type": "code",
   "execution_count": 43,
   "metadata": {},
   "outputs": [
    {
     "name": "stdout",
     "output_type": "stream",
     "text": [
      "(8765, 7)\n"
     ]
    },
    {
     "data": {
      "text/plain": [
       "(35059, 7)"
      ]
     },
     "execution_count": 43,
     "metadata": {},
     "output_type": "execute_result"
    }
   ],
   "source": [
    "df_train = df.iloc[0:round(len(df) * 0.8)]\n",
    "df_test = df.iloc[round(len(df) * 0.8):]\n",
    "print(df_test.shape)\n",
    "df_train.shape"
   ]
  },
  {
   "cell_type": "code",
   "execution_count": 44,
   "metadata": {},
   "outputs": [],
   "source": [
    "X_train, y_train = get_X_y(df_train, 2000, 100)\n",
    "X_test, y_test = get_X_y(df_test, 400, 100)"
   ]
  },
  {
   "cell_type": "code",
   "execution_count": 284,
   "metadata": {},
   "outputs": [],
   "source": [
    "def init_model():\n",
    "    metric = metrics.MAPE\n",
    "\n",
    "    model = Sequential()\n",
    "\n",
    "    normalizer = Normalization()\n",
    "    normalizer.adapt(X_train)\n",
    "    \n",
    "    model.add(normalizer)\n",
    "    model.add(LSTM(units=10, activation='tanh'))\n",
    "    model.add(layers.Dense(20, activation=\"relu\"))\n",
    "    model.add(layers.Dense(1, activation=\"linear\"))\n",
    "\n",
    "    model.compile(loss='mse',\n",
    "                  metrics=metric,\n",
    "                  optimizer='rmsprop') # Use `rmsprop`\n",
    "    return model"
   ]
  },
  {
   "cell_type": "code",
   "execution_count": 285,
   "metadata": {},
   "outputs": [
    {
     "name": "stdout",
     "output_type": "stream",
     "text": [
      "Epoch 1/1000\n",
      "100/100 [==============================] - 2s 14ms/step - loss: 0.0064 - mean_absolute_percentage_error: 134.9958 - val_loss: 0.0020 - val_mean_absolute_percentage_error: 83.9409\n",
      "Epoch 2/1000\n",
      "100/100 [==============================] - 1s 11ms/step - loss: 0.0020 - mean_absolute_percentage_error: 72.4182 - val_loss: 0.0014 - val_mean_absolute_percentage_error: 64.2567\n",
      "Epoch 3/1000\n",
      "100/100 [==============================] - 1s 11ms/step - loss: 0.0015 - mean_absolute_percentage_error: 56.5905 - val_loss: 0.0012 - val_mean_absolute_percentage_error: 55.3846\n",
      "Epoch 4/1000\n",
      "100/100 [==============================] - 1s 11ms/step - loss: 0.0013 - mean_absolute_percentage_error: 50.8397 - val_loss: 0.0011 - val_mean_absolute_percentage_error: 51.3823\n",
      "Epoch 5/1000\n",
      "100/100 [==============================] - 1s 12ms/step - loss: 0.0011 - mean_absolute_percentage_error: 48.1010 - val_loss: 9.4290e-04 - val_mean_absolute_percentage_error: 43.5520\n",
      "Epoch 6/1000\n",
      "100/100 [==============================] - 1s 12ms/step - loss: 0.0010 - mean_absolute_percentage_error: 44.5478 - val_loss: 8.7767e-04 - val_mean_absolute_percentage_error: 44.3578\n",
      "Epoch 7/1000\n",
      "100/100 [==============================] - 1s 11ms/step - loss: 9.3320e-04 - mean_absolute_percentage_error: 42.1382 - val_loss: 9.2871e-04 - val_mean_absolute_percentage_error: 51.4571\n",
      "Epoch 8/1000\n",
      "100/100 [==============================] - 1s 12ms/step - loss: 8.6339e-04 - mean_absolute_percentage_error: 40.0440 - val_loss: 7.9108e-04 - val_mean_absolute_percentage_error: 38.6106\n",
      "Epoch 9/1000\n",
      "100/100 [==============================] - 1s 11ms/step - loss: 8.1449e-04 - mean_absolute_percentage_error: 38.0737 - val_loss: 9.0915e-04 - val_mean_absolute_percentage_error: 46.6879\n",
      "Epoch 10/1000\n",
      "100/100 [==============================] - 1s 12ms/step - loss: 7.7893e-04 - mean_absolute_percentage_error: 37.0187 - val_loss: 7.8631e-04 - val_mean_absolute_percentage_error: 43.9923\n",
      "Epoch 11/1000\n",
      "100/100 [==============================] - 1s 12ms/step - loss: 7.5026e-04 - mean_absolute_percentage_error: 36.7164 - val_loss: 7.7792e-04 - val_mean_absolute_percentage_error: 35.6648\n",
      "Epoch 12/1000\n",
      "100/100 [==============================] - 1s 12ms/step - loss: 7.3656e-04 - mean_absolute_percentage_error: 36.0206 - val_loss: 8.0179e-04 - val_mean_absolute_percentage_error: 52.3452\n",
      "Epoch 13/1000\n",
      "100/100 [==============================] - 1s 11ms/step - loss: 7.0753e-04 - mean_absolute_percentage_error: 34.7360 - val_loss: 7.0518e-04 - val_mean_absolute_percentage_error: 35.1900\n",
      "Epoch 14/1000\n",
      "100/100 [==============================] - 1s 11ms/step - loss: 6.8272e-04 - mean_absolute_percentage_error: 34.2662 - val_loss: 7.3943e-04 - val_mean_absolute_percentage_error: 44.5625\n",
      "Epoch 15/1000\n",
      "100/100 [==============================] - 1s 11ms/step - loss: 6.7438e-04 - mean_absolute_percentage_error: 34.0648 - val_loss: 7.4398e-04 - val_mean_absolute_percentage_error: 45.3164\n",
      "Epoch 16/1000\n",
      "100/100 [==============================] - 1s 12ms/step - loss: 6.6956e-04 - mean_absolute_percentage_error: 32.6215 - val_loss: 6.3193e-04 - val_mean_absolute_percentage_error: 32.6762\n",
      "Epoch 17/1000\n",
      "100/100 [==============================] - 1s 11ms/step - loss: 6.6114e-04 - mean_absolute_percentage_error: 33.2050 - val_loss: 6.2267e-04 - val_mean_absolute_percentage_error: 32.2302\n",
      "Epoch 18/1000\n",
      "100/100 [==============================] - 1s 11ms/step - loss: 6.3292e-04 - mean_absolute_percentage_error: 32.4874 - val_loss: 8.6690e-04 - val_mean_absolute_percentage_error: 39.9021\n",
      "Epoch 19/1000\n",
      "100/100 [==============================] - 1s 11ms/step - loss: 6.3133e-04 - mean_absolute_percentage_error: 31.9268 - val_loss: 7.7817e-04 - val_mean_absolute_percentage_error: 35.3758\n",
      "Epoch 20/1000\n",
      "100/100 [==============================] - 1s 11ms/step - loss: 6.2153e-04 - mean_absolute_percentage_error: 31.1629 - val_loss: 7.8785e-04 - val_mean_absolute_percentage_error: 45.4716\n",
      "Epoch 21/1000\n",
      "100/100 [==============================] - 1s 12ms/step - loss: 6.1294e-04 - mean_absolute_percentage_error: 30.5037 - val_loss: 6.8053e-04 - val_mean_absolute_percentage_error: 33.7377\n",
      "Epoch 22/1000\n",
      "100/100 [==============================] - 1s 11ms/step - loss: 5.9786e-04 - mean_absolute_percentage_error: 30.7037 - val_loss: 6.5622e-04 - val_mean_absolute_percentage_error: 32.6355\n",
      "Epoch 23/1000\n",
      "100/100 [==============================] - 1s 12ms/step - loss: 5.9545e-04 - mean_absolute_percentage_error: 30.8988 - val_loss: 6.4028e-04 - val_mean_absolute_percentage_error: 34.6455\n",
      "Epoch 24/1000\n",
      "100/100 [==============================] - 1s 12ms/step - loss: 5.9548e-04 - mean_absolute_percentage_error: 30.6254 - val_loss: 6.8384e-04 - val_mean_absolute_percentage_error: 28.8588\n",
      "Epoch 25/1000\n",
      "100/100 [==============================] - 1s 12ms/step - loss: 5.8120e-04 - mean_absolute_percentage_error: 30.5436 - val_loss: 9.4191e-04 - val_mean_absolute_percentage_error: 34.4393\n",
      "Epoch 26/1000\n",
      "100/100 [==============================] - 1s 11ms/step - loss: 5.7660e-04 - mean_absolute_percentage_error: 30.4751 - val_loss: 6.0936e-04 - val_mean_absolute_percentage_error: 32.0873\n",
      "Epoch 27/1000\n",
      "100/100 [==============================] - 1s 11ms/step - loss: 5.6144e-04 - mean_absolute_percentage_error: 30.2823 - val_loss: 6.2201e-04 - val_mean_absolute_percentage_error: 31.9639\n",
      "Epoch 28/1000\n",
      "100/100 [==============================] - 1s 11ms/step - loss: 5.6784e-04 - mean_absolute_percentage_error: 30.0142 - val_loss: 6.4898e-04 - val_mean_absolute_percentage_error: 30.0324\n",
      "Epoch 29/1000\n",
      "100/100 [==============================] - 1s 12ms/step - loss: 5.4810e-04 - mean_absolute_percentage_error: 28.9931 - val_loss: 6.0687e-04 - val_mean_absolute_percentage_error: 30.7064\n",
      "Epoch 30/1000\n",
      "100/100 [==============================] - 1s 11ms/step - loss: 5.4840e-04 - mean_absolute_percentage_error: 29.6667 - val_loss: 6.4003e-04 - val_mean_absolute_percentage_error: 33.4189\n",
      "Epoch 31/1000\n",
      "100/100 [==============================] - 1s 11ms/step - loss: 5.6262e-04 - mean_absolute_percentage_error: 29.7608 - val_loss: 6.6769e-04 - val_mean_absolute_percentage_error: 31.4280\n",
      "Epoch 32/1000\n",
      "100/100 [==============================] - 1s 11ms/step - loss: 5.5324e-04 - mean_absolute_percentage_error: 29.0013 - val_loss: 6.2148e-04 - val_mean_absolute_percentage_error: 32.4301\n",
      "Epoch 33/1000\n",
      "100/100 [==============================] - 1s 11ms/step - loss: 5.2099e-04 - mean_absolute_percentage_error: 29.0593 - val_loss: 6.0115e-04 - val_mean_absolute_percentage_error: 29.5120\n",
      "Epoch 34/1000\n",
      "100/100 [==============================] - 1s 12ms/step - loss: 5.3065e-04 - mean_absolute_percentage_error: 28.7431 - val_loss: 6.5594e-04 - val_mean_absolute_percentage_error: 30.5357\n",
      "Epoch 35/1000\n",
      "100/100 [==============================] - 1s 11ms/step - loss: 5.3500e-04 - mean_absolute_percentage_error: 29.2231 - val_loss: 6.0660e-04 - val_mean_absolute_percentage_error: 36.1572\n",
      "Epoch 36/1000\n",
      "100/100 [==============================] - 1s 12ms/step - loss: 5.3581e-04 - mean_absolute_percentage_error: 28.6999 - val_loss: 5.9628e-04 - val_mean_absolute_percentage_error: 27.0751\n",
      "Epoch 37/1000\n",
      "100/100 [==============================] - 1s 12ms/step - loss: 5.3058e-04 - mean_absolute_percentage_error: 27.7157 - val_loss: 6.1183e-04 - val_mean_absolute_percentage_error: 28.6516\n",
      "Epoch 38/1000\n",
      "100/100 [==============================] - 1s 12ms/step - loss: 5.2251e-04 - mean_absolute_percentage_error: 28.5641 - val_loss: 6.0070e-04 - val_mean_absolute_percentage_error: 29.7883\n",
      "Epoch 39/1000\n",
      "100/100 [==============================] - 1s 12ms/step - loss: 5.1453e-04 - mean_absolute_percentage_error: 28.3066 - val_loss: 6.0163e-04 - val_mean_absolute_percentage_error: 30.3801\n",
      "Epoch 40/1000\n",
      "100/100 [==============================] - 1s 12ms/step - loss: 5.0787e-04 - mean_absolute_percentage_error: 28.4253 - val_loss: 5.7687e-04 - val_mean_absolute_percentage_error: 30.4448\n",
      "Epoch 41/1000\n",
      "100/100 [==============================] - 1s 12ms/step - loss: 5.1980e-04 - mean_absolute_percentage_error: 29.0237 - val_loss: 6.1015e-04 - val_mean_absolute_percentage_error: 28.7140\n",
      "Epoch 42/1000\n",
      "100/100 [==============================] - 1s 12ms/step - loss: 5.0171e-04 - mean_absolute_percentage_error: 28.9965 - val_loss: 6.0396e-04 - val_mean_absolute_percentage_error: 26.1296\n",
      "Epoch 43/1000\n",
      "100/100 [==============================] - 1s 11ms/step - loss: 5.0322e-04 - mean_absolute_percentage_error: 28.3446 - val_loss: 6.2044e-04 - val_mean_absolute_percentage_error: 27.4375\n",
      "Epoch 44/1000\n",
      "100/100 [==============================] - 1s 11ms/step - loss: 4.9278e-04 - mean_absolute_percentage_error: 27.6396 - val_loss: 5.9066e-04 - val_mean_absolute_percentage_error: 32.6155\n",
      "Epoch 45/1000\n",
      "100/100 [==============================] - 1s 12ms/step - loss: 5.0315e-04 - mean_absolute_percentage_error: 28.1622 - val_loss: 5.7665e-04 - val_mean_absolute_percentage_error: 29.1544\n",
      "Epoch 46/1000\n",
      "100/100 [==============================] - 1s 11ms/step - loss: 4.8199e-04 - mean_absolute_percentage_error: 26.9987 - val_loss: 5.9202e-04 - val_mean_absolute_percentage_error: 27.3992\n",
      "Epoch 47/1000\n",
      "100/100 [==============================] - 1s 12ms/step - loss: 4.7717e-04 - mean_absolute_percentage_error: 27.5117 - val_loss: 5.8477e-04 - val_mean_absolute_percentage_error: 36.0539\n",
      "Epoch 48/1000\n",
      "100/100 [==============================] - 1s 11ms/step - loss: 5.0035e-04 - mean_absolute_percentage_error: 28.3700 - val_loss: 7.4463e-04 - val_mean_absolute_percentage_error: 31.6310\n",
      "Epoch 49/1000\n",
      "100/100 [==============================] - 1s 11ms/step - loss: 4.8483e-04 - mean_absolute_percentage_error: 27.7824 - val_loss: 6.6400e-04 - val_mean_absolute_percentage_error: 29.5597\n",
      "Epoch 50/1000\n",
      "100/100 [==============================] - 1s 11ms/step - loss: 4.7428e-04 - mean_absolute_percentage_error: 27.6882 - val_loss: 6.2853e-04 - val_mean_absolute_percentage_error: 29.3314\n",
      "Epoch 51/1000\n",
      "100/100 [==============================] - 1s 11ms/step - loss: 4.7963e-04 - mean_absolute_percentage_error: 27.2849 - val_loss: 7.5928e-04 - val_mean_absolute_percentage_error: 43.8197\n",
      "Epoch 52/1000\n",
      "100/100 [==============================] - 1s 11ms/step - loss: 4.7648e-04 - mean_absolute_percentage_error: 27.7039 - val_loss: 5.7852e-04 - val_mean_absolute_percentage_error: 27.0551\n",
      "Epoch 53/1000\n",
      "100/100 [==============================] - 1s 11ms/step - loss: 4.7046e-04 - mean_absolute_percentage_error: 27.1398 - val_loss: 5.6906e-04 - val_mean_absolute_percentage_error: 28.8734\n",
      "Epoch 54/1000\n",
      "100/100 [==============================] - 1s 11ms/step - loss: 4.7376e-04 - mean_absolute_percentage_error: 27.0591 - val_loss: 6.8208e-04 - val_mean_absolute_percentage_error: 30.7832\n",
      "Epoch 55/1000\n",
      "100/100 [==============================] - 1s 11ms/step - loss: 4.6495e-04 - mean_absolute_percentage_error: 28.1537 - val_loss: 5.9996e-04 - val_mean_absolute_percentage_error: 29.8573\n",
      "Epoch 56/1000\n",
      "100/100 [==============================] - 1s 11ms/step - loss: 4.5569e-04 - mean_absolute_percentage_error: 26.8070 - val_loss: 6.7713e-04 - val_mean_absolute_percentage_error: 32.8005\n",
      "Epoch 57/1000\n",
      "100/100 [==============================] - 1s 11ms/step - loss: 4.6198e-04 - mean_absolute_percentage_error: 27.0434 - val_loss: 6.1002e-04 - val_mean_absolute_percentage_error: 29.9545\n",
      "Epoch 58/1000\n",
      "100/100 [==============================] - 1s 11ms/step - loss: 4.5325e-04 - mean_absolute_percentage_error: 26.9099 - val_loss: 5.8258e-04 - val_mean_absolute_percentage_error: 27.2637\n",
      "Epoch 59/1000\n",
      "100/100 [==============================] - 1s 12ms/step - loss: 4.6141e-04 - mean_absolute_percentage_error: 27.4420 - val_loss: 5.9429e-04 - val_mean_absolute_percentage_error: 28.4101\n",
      "Epoch 60/1000\n",
      "100/100 [==============================] - 1s 11ms/step - loss: 4.5195e-04 - mean_absolute_percentage_error: 27.5584 - val_loss: 5.8466e-04 - val_mean_absolute_percentage_error: 31.5207\n",
      "Epoch 61/1000\n",
      "100/100 [==============================] - 1s 12ms/step - loss: 4.6018e-04 - mean_absolute_percentage_error: 26.1472 - val_loss: 6.8762e-04 - val_mean_absolute_percentage_error: 28.9811\n",
      "Epoch 62/1000\n",
      "100/100 [==============================] - 1s 12ms/step - loss: 4.5141e-04 - mean_absolute_percentage_error: 27.0325 - val_loss: 5.8950e-04 - val_mean_absolute_percentage_error: 27.6594\n",
      "Epoch 63/1000\n",
      "100/100 [==============================] - 1s 11ms/step - loss: 4.4012e-04 - mean_absolute_percentage_error: 25.8969 - val_loss: 7.0121e-04 - val_mean_absolute_percentage_error: 33.4274\n",
      "13/13 [==============================] - 0s 5ms/step - loss: 7.6031e-04 - mean_absolute_percentage_error: 34.6537\n"
     ]
    },
    {
     "data": {
      "text/plain": [
       "[0.0007603096892125905, 34.6536865234375]"
      ]
     },
     "execution_count": 285,
     "metadata": {},
     "output_type": "execute_result"
    }
   ],
   "source": [
    "model = init_model()\n",
    "\n",
    "es = EarlyStopping(patience=10, restore_best_weights=True)\n",
    "\n",
    "history = model.fit(X_train, y_train,\n",
    "              epochs=1000,  # Use early stop in practice\n",
    "              batch_size=16, \n",
    "              verbose=1,\n",
    "              callbacks=[es],\n",
    "              validation_split=0.2)\n",
    "\n",
    "model.evaluate(X_test, y_test)"
   ]
  },
  {
   "cell_type": "code",
   "execution_count": 282,
   "metadata": {},
   "outputs": [
    {
     "name": "stdout",
     "output_type": "stream",
     "text": [
      "Benchmark MAPE on the test set : 240 %\n",
      "Benchmark MAPE on the test set : 19 %\n",
      "MAPE on the test set : 38 %\n"
     ]
    }
   ],
   "source": [
    "y_pred = np.mean(y_train)\n",
    "bench_res = np.mean(np.abs(y_pred - y_test)/y_test)*100\n",
    "\n",
    "print(f'Benchmark MAPE on the test set : {bench_res:.0f} %')\n",
    "\n",
    "y_pred_baseline = X_test[:,-1,0]\n",
    "bench_res = np.mean(np.abs(y_pred_baseline - y_test)/y_test)*100\n",
    "print(f'Benchmark MAPE on the test set : {bench_res:.0f} %')\n",
    "\n",
    "res = model.evaluate(X_test, y_test, verbose=0)\n",
    "\n",
    "print(f'MAPE on the test set : {res[1]:.0f} %')"
   ]
  },
  {
   "cell_type": "code",
   "execution_count": 276,
   "metadata": {},
   "outputs": [
    {
     "data": {
      "text/plain": [
       "[<matplotlib.lines.Line2D at 0x7f5ef0362fa0>]"
      ]
     },
     "execution_count": 276,
     "metadata": {},
     "output_type": "execute_result"
    },
    {
     "data": {
      "image/png": "[encoded data removed]",
      "text/plain": [
       "<Figure size 432x288 with 1 Axes>"
      ]
     },
     "metadata": {
      "needs_background": "light"
     },
     "output_type": "display_data"
    }
   ],
   "source": [
    "import matplotlib.pyplot as plt\n",
    "plt.plot(history.history['mae'])\n",
    "plt.plot(history.history['val_mae'])"
   ]
  },
  {
   "cell_type": "markdown",
   "metadata": {},
   "source": [
    "## Stack RNN layers"
   ]
  },
  {
   "cell_type": "code",
   "execution_count": 287,
   "metadata": {},
   "outputs": [],
   "source": [
    "def init_model_2():\n",
    "    metric = metrics.MAPE\n",
    "\n",
    "    model = Sequential()\n",
    "\n",
    "    normalizer = Normalization()\n",
    "    normalizer.adapt(X_train)\n",
    "    \n",
    "    model.add(normalizer)\n",
    "    model.add(layers.SimpleRNN(units=10, activation='tanh'))\n",
    "    model.add(layers.Dense(20, activation=\"relu\"))\n",
    "    model.add(layers.Dense(1, activation=\"linear\"))\n",
    "\n",
    "    model.compile(loss='mse',\n",
    "                  metrics=metric,\n",
    "                  optimizer='rmsprop') # Use `rmsprop`\n",
    "    return model"
   ]
  },
  {
   "cell_type": "code",
   "execution_count": 288,
   "metadata": {},
   "outputs": [
    {
     "name": "stdout",
     "output_type": "stream",
     "text": [
      "Epoch 1/1000\n",
      "100/100 [==============================] - 1s 9ms/step - loss: 0.0311 - mean_absolute_percentage_error: 355.3450 - val_loss: 0.0086 - val_mean_absolute_percentage_error: 180.9863\n",
      "Epoch 2/1000\n",
      "100/100 [==============================] - 1s 7ms/step - loss: 0.0057 - mean_absolute_percentage_error: 157.6231 - val_loss: 0.0032 - val_mean_absolute_percentage_error: 99.5424\n",
      "Epoch 3/1000\n",
      "100/100 [==============================] - 1s 8ms/step - loss: 0.0029 - mean_absolute_percentage_error: 107.4928 - val_loss: 0.0021 - val_mean_absolute_percentage_error: 70.8605\n",
      "Epoch 4/1000\n",
      "100/100 [==============================] - 1s 7ms/step - loss: 0.0020 - mean_absolute_percentage_error: 88.5217 - val_loss: 0.0015 - val_mean_absolute_percentage_error: 63.6223\n",
      "Epoch 5/1000\n",
      "100/100 [==============================] - 1s 8ms/step - loss: 0.0015 - mean_absolute_percentage_error: 73.2050 - val_loss: 0.0017 - val_mean_absolute_percentage_error: 67.5739\n",
      "Epoch 6/1000\n",
      "100/100 [==============================] - 1s 7ms/step - loss: 0.0013 - mean_absolute_percentage_error: 66.0299 - val_loss: 0.0012 - val_mean_absolute_percentage_error: 54.5383\n",
      "Epoch 7/1000\n",
      "100/100 [==============================] - 1s 7ms/step - loss: 0.0011 - mean_absolute_percentage_error: 61.7516 - val_loss: 0.0011 - val_mean_absolute_percentage_error: 59.4539\n",
      "Epoch 8/1000\n",
      "100/100 [==============================] - 1s 8ms/step - loss: 0.0011 - mean_absolute_percentage_error: 57.0297 - val_loss: 0.0011 - val_mean_absolute_percentage_error: 55.2553\n",
      "Epoch 9/1000\n",
      "100/100 [==============================] - 1s 7ms/step - loss: 0.0010 - mean_absolute_percentage_error: 54.2753 - val_loss: 0.0010 - val_mean_absolute_percentage_error: 48.1751\n",
      "Epoch 10/1000\n",
      "100/100 [==============================] - 1s 8ms/step - loss: 9.3825e-04 - mean_absolute_percentage_error: 51.5394 - val_loss: 8.7269e-04 - val_mean_absolute_percentage_error: 44.5298\n",
      "Epoch 11/1000\n",
      "100/100 [==============================] - 1s 8ms/step - loss: 9.2549e-04 - mean_absolute_percentage_error: 49.4717 - val_loss: 8.4474e-04 - val_mean_absolute_percentage_error: 46.5807\n",
      "Epoch 12/1000\n",
      "100/100 [==============================] - 1s 7ms/step - loss: 8.7556e-04 - mean_absolute_percentage_error: 47.9004 - val_loss: 7.7914e-04 - val_mean_absolute_percentage_error: 43.5881\n",
      "Epoch 13/1000\n",
      "100/100 [==============================] - 1s 7ms/step - loss: 8.7287e-04 - mean_absolute_percentage_error: 46.8505 - val_loss: 7.8177e-04 - val_mean_absolute_percentage_error: 41.8640\n",
      "Epoch 14/1000\n",
      "100/100 [==============================] - 1s 8ms/step - loss: 8.2582e-04 - mean_absolute_percentage_error: 43.9648 - val_loss: 7.6606e-04 - val_mean_absolute_percentage_error: 39.9756\n",
      "Epoch 15/1000\n",
      "100/100 [==============================] - 1s 7ms/step - loss: 7.8201e-04 - mean_absolute_percentage_error: 45.6629 - val_loss: 7.6122e-04 - val_mean_absolute_percentage_error: 38.1941\n",
      "Epoch 16/1000\n",
      "100/100 [==============================] - 1s 7ms/step - loss: 7.7404e-04 - mean_absolute_percentage_error: 42.5864 - val_loss: 7.7488e-04 - val_mean_absolute_percentage_error: 43.5204\n",
      "Epoch 17/1000\n",
      "100/100 [==============================] - 1s 7ms/step - loss: 7.9536e-04 - mean_absolute_percentage_error: 41.9668 - val_loss: 7.7697e-04 - val_mean_absolute_percentage_error: 40.9488\n",
      "Epoch 18/1000\n",
      "100/100 [==============================] - 1s 7ms/step - loss: 7.9810e-04 - mean_absolute_percentage_error: 43.4485 - val_loss: 7.8011e-04 - val_mean_absolute_percentage_error: 37.3428\n",
      "Epoch 19/1000\n",
      "100/100 [==============================] - 1s 7ms/step - loss: 7.5929e-04 - mean_absolute_percentage_error: 41.9926 - val_loss: 0.0012 - val_mean_absolute_percentage_error: 41.9715\n",
      "Epoch 20/1000\n",
      "100/100 [==============================] - 1s 7ms/step - loss: 7.5339e-04 - mean_absolute_percentage_error: 41.3990 - val_loss: 7.7975e-04 - val_mean_absolute_percentage_error: 44.5581\n",
      "Epoch 21/1000\n",
      "100/100 [==============================] - 1s 8ms/step - loss: 7.3280e-04 - mean_absolute_percentage_error: 41.8881 - val_loss: 8.3677e-04 - val_mean_absolute_percentage_error: 42.9292\n",
      "Epoch 22/1000\n",
      "100/100 [==============================] - 1s 8ms/step - loss: 7.2927e-04 - mean_absolute_percentage_error: 39.9351 - val_loss: 7.1040e-04 - val_mean_absolute_percentage_error: 43.0033\n",
      "Epoch 23/1000\n",
      "100/100 [==============================] - 1s 8ms/step - loss: 6.8620e-04 - mean_absolute_percentage_error: 38.9623 - val_loss: 7.4812e-04 - val_mean_absolute_percentage_error: 36.4126\n",
      "Epoch 24/1000\n",
      "100/100 [==============================] - 1s 8ms/step - loss: 7.0835e-04 - mean_absolute_percentage_error: 39.5751 - val_loss: 7.6159e-04 - val_mean_absolute_percentage_error: 32.2443\n",
      "Epoch 25/1000\n",
      "100/100 [==============================] - 1s 8ms/step - loss: 6.8848e-04 - mean_absolute_percentage_error: 37.6413 - val_loss: 6.4697e-04 - val_mean_absolute_percentage_error: 35.2908\n",
      "Epoch 26/1000\n",
      "100/100 [==============================] - 1s 8ms/step - loss: 6.9029e-04 - mean_absolute_percentage_error: 37.4912 - val_loss: 6.8845e-04 - val_mean_absolute_percentage_error: 42.0360\n",
      "Epoch 27/1000\n",
      "100/100 [==============================] - 1s 8ms/step - loss: 6.9104e-04 - mean_absolute_percentage_error: 36.5584 - val_loss: 6.2653e-04 - val_mean_absolute_percentage_error: 32.7311\n",
      "Epoch 28/1000\n",
      "100/100 [==============================] - 1s 8ms/step - loss: 6.8076e-04 - mean_absolute_percentage_error: 36.8006 - val_loss: 5.7877e-04 - val_mean_absolute_percentage_error: 28.7125\n",
      "Epoch 29/1000\n",
      "100/100 [==============================] - 1s 8ms/step - loss: 6.2761e-04 - mean_absolute_percentage_error: 36.3290 - val_loss: 6.2645e-04 - val_mean_absolute_percentage_error: 38.3697\n",
      "Epoch 30/1000\n",
      "100/100 [==============================] - 1s 8ms/step - loss: 6.7042e-04 - mean_absolute_percentage_error: 35.6641 - val_loss: 6.0915e-04 - val_mean_absolute_percentage_error: 35.9833\n",
      "Epoch 31/1000\n",
      "100/100 [==============================] - 1s 8ms/step - loss: 6.5401e-04 - mean_absolute_percentage_error: 35.7725 - val_loss: 6.0657e-04 - val_mean_absolute_percentage_error: 30.8082\n",
      "Epoch 32/1000\n",
      "100/100 [==============================] - 1s 8ms/step - loss: 6.5546e-04 - mean_absolute_percentage_error: 35.5953 - val_loss: 5.9882e-04 - val_mean_absolute_percentage_error: 30.2111\n",
      "Epoch 33/1000\n",
      "100/100 [==============================] - 1s 7ms/step - loss: 6.3698e-04 - mean_absolute_percentage_error: 35.3259 - val_loss: 5.9358e-04 - val_mean_absolute_percentage_error: 35.9900\n",
      "Epoch 34/1000\n",
      "100/100 [==============================] - 1s 7ms/step - loss: 6.3399e-04 - mean_absolute_percentage_error: 35.1957 - val_loss: 0.0013 - val_mean_absolute_percentage_error: 40.3479\n",
      "Epoch 35/1000\n",
      "100/100 [==============================] - 1s 7ms/step - loss: 6.3171e-04 - mean_absolute_percentage_error: 35.2046 - val_loss: 6.3405e-04 - val_mean_absolute_percentage_error: 44.4304\n",
      "Epoch 36/1000\n",
      "100/100 [==============================] - 1s 8ms/step - loss: 6.1764e-04 - mean_absolute_percentage_error: 37.0755 - val_loss: 8.4238e-04 - val_mean_absolute_percentage_error: 31.9216\n",
      "Epoch 37/1000\n",
      "100/100 [==============================] - 1s 7ms/step - loss: 6.4061e-04 - mean_absolute_percentage_error: 35.6904 - val_loss: 5.7744e-04 - val_mean_absolute_percentage_error: 32.3169\n",
      "Epoch 38/1000\n",
      "100/100 [==============================] - 1s 7ms/step - loss: 6.2714e-04 - mean_absolute_percentage_error: 35.0627 - val_loss: 7.3906e-04 - val_mean_absolute_percentage_error: 40.4563\n",
      "Epoch 39/1000\n",
      "100/100 [==============================] - 1s 7ms/step - loss: 6.1138e-04 - mean_absolute_percentage_error: 33.9360 - val_loss: 5.7046e-04 - val_mean_absolute_percentage_error: 34.3821\n",
      "Epoch 40/1000\n",
      "100/100 [==============================] - 1s 7ms/step - loss: 6.2074e-04 - mean_absolute_percentage_error: 33.8456 - val_loss: 5.7152e-04 - val_mean_absolute_percentage_error: 32.1211\n",
      "Epoch 41/1000\n",
      "100/100 [==============================] - 1s 7ms/step - loss: 6.2663e-04 - mean_absolute_percentage_error: 33.8544 - val_loss: 5.6770e-04 - val_mean_absolute_percentage_error: 35.6191\n",
      "Epoch 42/1000\n",
      "100/100 [==============================] - 1s 8ms/step - loss: 6.0929e-04 - mean_absolute_percentage_error: 34.3838 - val_loss: 5.7221e-04 - val_mean_absolute_percentage_error: 31.0354\n",
      "Epoch 43/1000\n",
      "100/100 [==============================] - 1s 8ms/step - loss: 6.1109e-04 - mean_absolute_percentage_error: 32.7084 - val_loss: 5.6060e-04 - val_mean_absolute_percentage_error: 31.3868\n",
      "Epoch 44/1000\n",
      "100/100 [==============================] - 1s 7ms/step - loss: 6.0325e-04 - mean_absolute_percentage_error: 33.7808 - val_loss: 5.8412e-04 - val_mean_absolute_percentage_error: 32.0484\n",
      "Epoch 45/1000\n",
      "100/100 [==============================] - 1s 7ms/step - loss: 6.0138e-04 - mean_absolute_percentage_error: 34.0707 - val_loss: 6.3030e-04 - val_mean_absolute_percentage_error: 40.4973\n",
      "Epoch 46/1000\n",
      "100/100 [==============================] - 1s 7ms/step - loss: 6.0248e-04 - mean_absolute_percentage_error: 33.1628 - val_loss: 6.3735e-04 - val_mean_absolute_percentage_error: 32.3922\n",
      "Epoch 47/1000\n",
      "100/100 [==============================] - 1s 7ms/step - loss: 5.9436e-04 - mean_absolute_percentage_error: 32.1142 - val_loss: 8.5812e-04 - val_mean_absolute_percentage_error: 44.6665\n",
      "Epoch 48/1000\n",
      "100/100 [==============================] - 1s 7ms/step - loss: 5.9357e-04 - mean_absolute_percentage_error: 32.6411 - val_loss: 6.4715e-04 - val_mean_absolute_percentage_error: 40.5374\n",
      "Epoch 49/1000\n",
      "100/100 [==============================] - 1s 8ms/step - loss: 5.9456e-04 - mean_absolute_percentage_error: 33.9883 - val_loss: 6.5065e-04 - val_mean_absolute_percentage_error: 38.0019\n",
      "Epoch 50/1000\n",
      "100/100 [==============================] - 1s 7ms/step - loss: 6.0008e-04 - mean_absolute_percentage_error: 32.9069 - val_loss: 5.5172e-04 - val_mean_absolute_percentage_error: 31.1613\n",
      "Epoch 51/1000\n",
      "100/100 [==============================] - 1s 7ms/step - loss: 6.0112e-04 - mean_absolute_percentage_error: 32.7679 - val_loss: 6.0441e-04 - val_mean_absolute_percentage_error: 34.1152\n",
      "Epoch 52/1000\n",
      "100/100 [==============================] - 1s 7ms/step - loss: 5.6786e-04 - mean_absolute_percentage_error: 32.2215 - val_loss: 6.0003e-04 - val_mean_absolute_percentage_error: 38.6933\n",
      "Epoch 53/1000\n",
      "100/100 [==============================] - 1s 8ms/step - loss: 5.7079e-04 - mean_absolute_percentage_error: 31.6489 - val_loss: 6.9499e-04 - val_mean_absolute_percentage_error: 42.3669\n",
      "Epoch 54/1000\n",
      "100/100 [==============================] - 1s 8ms/step - loss: 5.7320e-04 - mean_absolute_percentage_error: 31.6299 - val_loss: 7.2650e-04 - val_mean_absolute_percentage_error: 32.7920\n",
      "Epoch 55/1000\n",
      "100/100 [==============================] - 1s 8ms/step - loss: 5.6729e-04 - mean_absolute_percentage_error: 31.5662 - val_loss: 5.5102e-04 - val_mean_absolute_percentage_error: 31.4660\n",
      "Epoch 56/1000\n",
      "100/100 [==============================] - 1s 7ms/step - loss: 6.0181e-04 - mean_absolute_percentage_error: 31.2955 - val_loss: 5.8070e-04 - val_mean_absolute_percentage_error: 33.1288\n",
      "Epoch 57/1000\n",
      "100/100 [==============================] - 1s 7ms/step - loss: 5.8113e-04 - mean_absolute_percentage_error: 31.6370 - val_loss: 5.4348e-04 - val_mean_absolute_percentage_error: 35.4321\n",
      "Epoch 58/1000\n",
      "100/100 [==============================] - 1s 8ms/step - loss: 5.8223e-04 - mean_absolute_percentage_error: 31.3198 - val_loss: 5.6863e-04 - val_mean_absolute_percentage_error: 34.7886\n",
      "Epoch 59/1000\n",
      "100/100 [==============================] - 1s 7ms/step - loss: 5.6365e-04 - mean_absolute_percentage_error: 31.5509 - val_loss: 5.6284e-04 - val_mean_absolute_percentage_error: 36.1930\n",
      "Epoch 60/1000\n",
      "100/100 [==============================] - 1s 8ms/step - loss: 5.5930e-04 - mean_absolute_percentage_error: 31.1051 - val_loss: 6.9620e-04 - val_mean_absolute_percentage_error: 37.7659\n",
      "Epoch 61/1000\n",
      "100/100 [==============================] - 1s 8ms/step - loss: 5.6932e-04 - mean_absolute_percentage_error: 31.3377 - val_loss: 5.4007e-04 - val_mean_absolute_percentage_error: 31.7169\n",
      "Epoch 62/1000\n",
      "100/100 [==============================] - 1s 8ms/step - loss: 5.7361e-04 - mean_absolute_percentage_error: 31.8211 - val_loss: 5.4700e-04 - val_mean_absolute_percentage_error: 31.7961\n",
      "Epoch 63/1000\n",
      "100/100 [==============================] - 1s 8ms/step - loss: 5.6409e-04 - mean_absolute_percentage_error: 30.5714 - val_loss: 5.4645e-04 - val_mean_absolute_percentage_error: 30.4767\n",
      "Epoch 64/1000\n",
      "100/100 [==============================] - 1s 7ms/step - loss: 5.5773e-04 - mean_absolute_percentage_error: 31.7787 - val_loss: 5.2547e-04 - val_mean_absolute_percentage_error: 30.5335\n",
      "Epoch 65/1000\n",
      "100/100 [==============================] - 1s 8ms/step - loss: 5.5698e-04 - mean_absolute_percentage_error: 29.9975 - val_loss: 5.5766e-04 - val_mean_absolute_percentage_error: 32.9535\n",
      "Epoch 66/1000\n",
      "100/100 [==============================] - 1s 7ms/step - loss: 5.6364e-04 - mean_absolute_percentage_error: 30.4167 - val_loss: 5.9377e-04 - val_mean_absolute_percentage_error: 35.4800\n",
      "Epoch 67/1000\n",
      "100/100 [==============================] - 1s 7ms/step - loss: 5.4695e-04 - mean_absolute_percentage_error: 30.4062 - val_loss: 5.5493e-04 - val_mean_absolute_percentage_error: 32.6147\n",
      "Epoch 68/1000\n",
      "100/100 [==============================] - 1s 7ms/step - loss: 5.6070e-04 - mean_absolute_percentage_error: 32.1716 - val_loss: 5.3095e-04 - val_mean_absolute_percentage_error: 31.8869\n",
      "Epoch 69/1000\n",
      "100/100 [==============================] - 1s 7ms/step - loss: 5.5821e-04 - mean_absolute_percentage_error: 30.5646 - val_loss: 6.1187e-04 - val_mean_absolute_percentage_error: 38.0847\n",
      "Epoch 70/1000\n",
      "100/100 [==============================] - 1s 7ms/step - loss: 5.5447e-04 - mean_absolute_percentage_error: 29.5703 - val_loss: 5.3236e-04 - val_mean_absolute_percentage_error: 29.6450\n",
      "Epoch 71/1000\n",
      "100/100 [==============================] - 1s 7ms/step - loss: 5.5202e-04 - mean_absolute_percentage_error: 30.7104 - val_loss: 5.9717e-04 - val_mean_absolute_percentage_error: 36.2362\n",
      "Epoch 72/1000\n",
      "100/100 [==============================] - 1s 7ms/step - loss: 5.6025e-04 - mean_absolute_percentage_error: 30.1782 - val_loss: 5.6610e-04 - val_mean_absolute_percentage_error: 35.5303\n",
      "Epoch 73/1000\n",
      "100/100 [==============================] - 1s 7ms/step - loss: 5.5829e-04 - mean_absolute_percentage_error: 30.8716 - val_loss: 6.4400e-04 - val_mean_absolute_percentage_error: 35.8896\n",
      "Epoch 74/1000\n",
      "100/100 [==============================] - 1s 7ms/step - loss: 5.5788e-04 - mean_absolute_percentage_error: 28.8169 - val_loss: 5.4837e-04 - val_mean_absolute_percentage_error: 32.9582\n",
      "13/13 [==============================] - 0s 3ms/step - loss: 6.6140e-04 - mean_absolute_percentage_error: 30.7619\n"
     ]
    },
    {
     "data": {
      "text/plain": [
       "[0.0006613968289457262, 30.761852264404297]"
      ]
     },
     "execution_count": 288,
     "metadata": {},
     "output_type": "execute_result"
    }
   ],
   "source": [
    "model = init_model_2()\n",
    "\n",
    "es = EarlyStopping(patience=10, restore_best_weights=True)\n",
    "\n",
    "history = model.fit(X_train, y_train,\n",
    "              epochs=1000,  # Use early stop in practice\n",
    "              batch_size=16, \n",
    "              verbose=1,\n",
    "              callbacks=[es],\n",
    "              validation_split=0.2)\n",
    "\n",
    "model.evaluate(X_test, y_test)"
   ]
  },
  {
   "cell_type": "markdown",
   "metadata": {},
   "source": [
    "## Subsample in sequence of different lenghts"
   ]
  },
  {
   "cell_type": "code",
   "execution_count": 49,
   "metadata": {},
   "outputs": [],
   "source": [
    "df_train = df.iloc[0:round(len(df) * 0.8)]\n",
    "df_test = df.iloc[round(len(df) * 0.8):]"
   ]
  },
  {
   "cell_type": "code",
   "execution_count": 50,
   "metadata": {},
   "outputs": [],
   "source": [
    "def subsample_sequence(df, length):\n",
    "    value = df.sample(1).index[0]\n",
    "    idx_position = df.index.get_loc(value)\n",
    "    if len(df) - length < idx_position:\n",
    "        return subsample_sequence(df, length)    \n",
    "    return df.loc[value:value+length-1]"
   ]
  },
  {
   "cell_type": "code",
   "execution_count": 53,
   "metadata": {},
   "outputs": [
    {
     "name": "stderr",
     "output_type": "stream",
     "text": [
      "<ipython-input-53-d8618f716e00>:19: VisibleDeprecationWarning: Creating an ndarray from ragged nested sequences (which is a list-or-tuple of lists-or-tuples-or ndarrays with different lengths or shapes) is deprecated. If you meant to do this, you must specify 'dtype=object' when creating the ndarray\n",
      "  return np.array(X), np.array(y)\n"
     ]
    }
   ],
   "source": [
    "def get_X_y(df, sequence_lengths):\n",
    "    for idx, length in enumerate(sequence_lengths):\n",
    "        df_subsample = subsample_sequence(df, length)\n",
    "        X_subsample = df_subsample.drop(columns='pm2.5')\n",
    "        y_subsample = df_subsample['pm2.5']\n",
    "        if y_subsample.isna().sum() == 0:\n",
    "            pass\n",
    "        elif y_subsample.isna().sum() == length:\n",
    "            y_subsample.fillna(df['pm2.5'].mean(), inplace=True)\n",
    "        else:\n",
    "            y_subsample.fillna(y_subsample.mean(), inplace=True)\n",
    "        if idx == 0:\n",
    "            X =[np.array(X_subsample.to_numpy().tolist())]\n",
    "            y =[np.array(y_subsample.to_numpy().tolist())]\n",
    "        else:\n",
    "            X.append(np.array(X_subsample.to_numpy().tolist()))\n",
    "            y.append(np.array(y_subsample.to_numpy().tolist()))\n",
    "            \n",
    "    return np.array(X), np.array(y)\n",
    "\n",
    "sequence_lengths_train = np.random.randint(15, 30, 1000)\n",
    "X_train, y_train = get_X_y(df_train, sequence_lengths_train)\n",
    "\n",
    "sequence_lengths_test = np.random.randint(20, 30, 200)\n",
    "X_test, y_test = get_X_y(df_test, sequence_lengths_test)"
   ]
  },
  {
   "cell_type": "code",
   "execution_count": 56,
   "metadata": {},
   "outputs": [],
   "source": [
    "X_test_pad = pad_sequences(X_test, dtype='float32', padding='post', value=-1000, maxlen=max(sequence_lengths_train))\n",
    "y_test_pad = pad_sequences(y_test, dtype='float32', padding='post', value=-1000, maxlen=max(sequence_lengths_train))\n",
    "\n",
    "X_train_pad = pad_sequences(X_train, dtype='float32', padding='post', value=-1000, maxlen=max(sequence_lengths_train))\n",
    "y_train_pad = pad_sequences(y_train, dtype='float32', padding='post', value=-1000, maxlen=max(sequence_lengths_train))"
   ]
  },
  {
   "cell_type": "code",
   "execution_count": 57,
   "metadata": {},
   "outputs": [],
   "source": [
    "y_train_pad =np.expand_dims(y_train_pad, axis=2)\n",
    "y_test_pad = np.expand_dims(y_test_pad, axis=2)"
   ]
  },
  {
   "cell_type": "code",
   "execution_count": 59,
   "metadata": {},
   "outputs": [],
   "source": [
    "def init_model():\n",
    "    ### YOUR CODE HERE\n",
    "    model = Sequential()\n",
    "\n",
    "    model.add(layers.Masking(mask_value=-1000, input_shape=(29,6)))\n",
    "    model.add(LSTM(units=10, activation='tanh', return_sequences=True))\n",
    "    model.add(layers.Dense(20, activation=\"relu\"))\n",
    "    model.add(layers.Dense(1, activation=\"linear\"))\n",
    "\n",
    "    model.compile(loss='mse',\n",
    "                  metrics=['mae'],\n",
    "                  optimizer='rmsprop') # Use `rmsprop`\n",
    "    return model"
   ]
  },
  {
   "cell_type": "code",
   "execution_count": 60,
   "metadata": {},
   "outputs": [
    {
     "name": "stdout",
     "output_type": "stream",
     "text": [
      "Epoch 1/1000\n",
      "13/13 [==============================] - 4s 78ms/step - loss: 0.2072 - mae: 0.3618 - val_loss: 0.1113 - val_mae: 0.2603\n",
      "Epoch 2/1000\n",
      "13/13 [==============================] - 0s 13ms/step - loss: 0.0822 - mae: 0.2231 - val_loss: 0.0507 - val_mae: 0.1785\n",
      "Epoch 3/1000\n",
      "13/13 [==============================] - 0s 10ms/step - loss: 0.0382 - mae: 0.1542 - val_loss: 0.0238 - val_mae: 0.1241\n",
      "Epoch 4/1000\n",
      "13/13 [==============================] - 0s 10ms/step - loss: 0.0179 - mae: 0.1080 - val_loss: 0.0119 - val_mae: 0.0907\n",
      "Epoch 5/1000\n",
      "13/13 [==============================] - 0s 9ms/step - loss: 0.0094 - mae: 0.0808 - val_loss: 0.0079 - val_mae: 0.0728\n",
      "Epoch 6/1000\n",
      "13/13 [==============================] - 0s 10ms/step - loss: 0.0067 - mae: 0.0681 - val_loss: 0.0069 - val_mae: 0.0677\n",
      "Epoch 7/1000\n",
      "13/13 [==============================] - 0s 9ms/step - loss: 0.0059 - mae: 0.0641 - val_loss: 0.0065 - val_mae: 0.0655\n",
      "Epoch 8/1000\n",
      "13/13 [==============================] - 0s 9ms/step - loss: 0.0055 - mae: 0.0621 - val_loss: 0.0057 - val_mae: 0.0632\n",
      "Epoch 9/1000\n",
      "13/13 [==============================] - 0s 9ms/step - loss: 0.0052 - mae: 0.0603 - val_loss: 0.0056 - val_mae: 0.0607\n",
      "Epoch 10/1000\n",
      "13/13 [==============================] - 0s 9ms/step - loss: 0.0049 - mae: 0.0591 - val_loss: 0.0054 - val_mae: 0.0602\n",
      "Epoch 11/1000\n",
      "13/13 [==============================] - 0s 9ms/step - loss: 0.0047 - mae: 0.0574 - val_loss: 0.0053 - val_mae: 0.0588\n",
      "Epoch 12/1000\n",
      "13/13 [==============================] - 0s 9ms/step - loss: 0.0046 - mae: 0.0568 - val_loss: 0.0051 - val_mae: 0.0597\n",
      "Epoch 13/1000\n",
      "13/13 [==============================] - 0s 9ms/step - loss: 0.0044 - mae: 0.0553 - val_loss: 0.0052 - val_mae: 0.0590\n",
      "Epoch 14/1000\n",
      "13/13 [==============================] - 0s 9ms/step - loss: 0.0044 - mae: 0.0553 - val_loss: 0.0051 - val_mae: 0.0565\n",
      "Epoch 15/1000\n",
      "13/13 [==============================] - 0s 9ms/step - loss: 0.0043 - mae: 0.0541 - val_loss: 0.0050 - val_mae: 0.0580\n",
      "Epoch 16/1000\n",
      "13/13 [==============================] - 0s 9ms/step - loss: 0.0042 - mae: 0.0543 - val_loss: 0.0050 - val_mae: 0.0554\n",
      "Epoch 17/1000\n",
      "13/13 [==============================] - 0s 9ms/step - loss: 0.0041 - mae: 0.0529 - val_loss: 0.0050 - val_mae: 0.0610\n",
      "Epoch 18/1000\n",
      "13/13 [==============================] - 0s 9ms/step - loss: 0.0042 - mae: 0.0540 - val_loss: 0.0047 - val_mae: 0.0564\n",
      "Epoch 19/1000\n",
      "13/13 [==============================] - 0s 9ms/step - loss: 0.0041 - mae: 0.0528 - val_loss: 0.0048 - val_mae: 0.0557\n",
      "Epoch 20/1000\n",
      "13/13 [==============================] - 0s 10ms/step - loss: 0.0041 - mae: 0.0528 - val_loss: 0.0048 - val_mae: 0.0544\n",
      "Epoch 21/1000\n",
      "13/13 [==============================] - 0s 10ms/step - loss: 0.0041 - mae: 0.0530 - val_loss: 0.0047 - val_mae: 0.0543\n",
      "Epoch 22/1000\n",
      "13/13 [==============================] - 0s 11ms/step - loss: 0.0040 - mae: 0.0523 - val_loss: 0.0046 - val_mae: 0.0553\n",
      "Epoch 23/1000\n",
      "13/13 [==============================] - 0s 9ms/step - loss: 0.0040 - mae: 0.0520 - val_loss: 0.0046 - val_mae: 0.0541\n",
      "Epoch 24/1000\n",
      "13/13 [==============================] - 0s 9ms/step - loss: 0.0040 - mae: 0.0521 - val_loss: 0.0046 - val_mae: 0.0565\n",
      "Epoch 25/1000\n",
      "13/13 [==============================] - 0s 9ms/step - loss: 0.0039 - mae: 0.0519 - val_loss: 0.0047 - val_mae: 0.0584\n",
      "Epoch 26/1000\n",
      "13/13 [==============================] - 0s 9ms/step - loss: 0.0040 - mae: 0.0524 - val_loss: 0.0045 - val_mae: 0.0539\n",
      "Epoch 27/1000\n",
      "13/13 [==============================] - 0s 9ms/step - loss: 0.0039 - mae: 0.0516 - val_loss: 0.0046 - val_mae: 0.0532\n",
      "Epoch 28/1000\n",
      "13/13 [==============================] - 0s 10ms/step - loss: 0.0038 - mae: 0.0512 - val_loss: 0.0049 - val_mae: 0.0551\n",
      "Epoch 29/1000\n",
      "13/13 [==============================] - 0s 9ms/step - loss: 0.0039 - mae: 0.0514 - val_loss: 0.0048 - val_mae: 0.0536\n",
      "Epoch 30/1000\n",
      "13/13 [==============================] - 0s 9ms/step - loss: 0.0038 - mae: 0.0507 - val_loss: 0.0045 - val_mae: 0.0537\n",
      "Epoch 31/1000\n",
      "13/13 [==============================] - 0s 9ms/step - loss: 0.0038 - mae: 0.0507 - val_loss: 0.0046 - val_mae: 0.0536\n"
     ]
    }
   ],
   "source": [
    "model = init_model()\n",
    "\n",
    "es = EarlyStopping(monitor='val_loss', mode='min', verbose=0, patience=5, restore_best_weights=True)\n",
    "\n",
    "history = model.fit(X_train_pad, y_train_pad,\n",
    "            validation_split=0.2,\n",
    "            epochs=1000, \n",
    "            batch_size=64,\n",
    "            callbacks=[es], verbose=1)"
   ]
  },
  {
   "cell_type": "code",
   "execution_count": 61,
   "metadata": {},
   "outputs": [
    {
     "data": {
      "text/plain": [
       "[<matplotlib.lines.Line2D at 0x7f14ec2a6640>]"
      ]
     },
     "execution_count": 61,
     "metadata": {},
     "output_type": "execute_result"
    },
    {
     "data": {
      "image/png": "[encoded data removed]",
      "text/plain": [
       "<Figure size 432x288 with 1 Axes>"
      ]
     },
     "metadata": {
      "needs_background": "light"
     },
     "output_type": "display_data"
    }
   ],
   "source": [
    "plt.plot(history.history['mae'])\n",
    "plt.plot(history.history['val_mae'])"
   ]
  },
  {
   "cell_type": "code",
   "execution_count": 62,
   "metadata": {},
   "outputs": [
    {
     "data": {
      "text/plain": [
       "[0.006042855326086283, 0.0603807158768177]"
      ]
     },
     "execution_count": 62,
     "metadata": {},
     "output_type": "execute_result"
    }
   ],
   "source": [
    "res = model.evaluate(X_test_pad, y_test_pad, verbose=0)\n",
    "res"
   ]
  },
  {
   "cell_type": "code",
   "execution_count": 63,
   "metadata": {},
   "outputs": [],
   "source": [
    "def init_model_2():\n",
    "    ### YOUR CODE HERE\n",
    "    model = Sequential()\n",
    "\n",
    "    model.add(layers.Masking(mask_value=-1000, input_shape=(29,6)))\n",
    "    model.add(LSTM(units=10, activation='tanh', return_sequences=True))\n",
    "    model.add(layers.Dense(40, activation=\"relu\"))\n",
    "    model.add(layers.Dense(20, activation=\"relu\"))\n",
    "    model.add(layers.Dense(1, activation=\"linear\"))\n",
    "\n",
    "    model.compile(loss='mse',\n",
    "                  metrics=['mae'],\n",
    "                  optimizer='rmsprop') # Use `rmsprop`\n",
    "    return model"
   ]
  },
  {
   "cell_type": "code",
   "execution_count": 64,
   "metadata": {},
   "outputs": [
    {
     "name": "stdout",
     "output_type": "stream",
     "text": [
      "Epoch 1/1000\n",
      "13/13 [==============================] - 4s 85ms/step - loss: 0.0133 - mae: 0.0977 - val_loss: 0.0064 - val_mae: 0.0652\n",
      "Epoch 2/1000\n",
      "13/13 [==============================] - 0s 10ms/step - loss: 0.0055 - mae: 0.0609 - val_loss: 0.0053 - val_mae: 0.0578\n",
      "Epoch 3/1000\n",
      "13/13 [==============================] - 0s 10ms/step - loss: 0.0047 - mae: 0.0564 - val_loss: 0.0048 - val_mae: 0.0584\n",
      "Epoch 4/1000\n",
      "13/13 [==============================] - 0s 10ms/step - loss: 0.0044 - mae: 0.0555 - val_loss: 0.0052 - val_mae: 0.0548\n",
      "Epoch 5/1000\n",
      "13/13 [==============================] - 0s 10ms/step - loss: 0.0042 - mae: 0.0537 - val_loss: 0.0048 - val_mae: 0.0532\n",
      "Epoch 6/1000\n",
      "13/13 [==============================] - 0s 10ms/step - loss: 0.0041 - mae: 0.0526 - val_loss: 0.0044 - val_mae: 0.0523\n",
      "Epoch 7/1000\n",
      "13/13 [==============================] - 0s 10ms/step - loss: 0.0041 - mae: 0.0528 - val_loss: 0.0044 - val_mae: 0.0510\n",
      "Epoch 8/1000\n",
      "13/13 [==============================] - 0s 11ms/step - loss: 0.0040 - mae: 0.0516 - val_loss: 0.0043 - val_mae: 0.0546\n",
      "Epoch 9/1000\n",
      "13/13 [==============================] - 0s 10ms/step - loss: 0.0039 - mae: 0.0513 - val_loss: 0.0043 - val_mae: 0.0571\n",
      "Epoch 10/1000\n",
      "13/13 [==============================] - 0s 10ms/step - loss: 0.0039 - mae: 0.0516 - val_loss: 0.0042 - val_mae: 0.0544\n",
      "Epoch 11/1000\n",
      "13/13 [==============================] - 0s 10ms/step - loss: 0.0038 - mae: 0.0509 - val_loss: 0.0049 - val_mae: 0.0531\n",
      "Epoch 12/1000\n",
      "13/13 [==============================] - 0s 10ms/step - loss: 0.0038 - mae: 0.0505 - val_loss: 0.0043 - val_mae: 0.0502\n",
      "Epoch 13/1000\n",
      "13/13 [==============================] - 0s 10ms/step - loss: 0.0038 - mae: 0.0504 - val_loss: 0.0041 - val_mae: 0.0506\n",
      "Epoch 14/1000\n",
      "13/13 [==============================] - 0s 10ms/step - loss: 0.0037 - mae: 0.0499 - val_loss: 0.0040 - val_mae: 0.0523\n",
      "Epoch 15/1000\n",
      "13/13 [==============================] - 0s 10ms/step - loss: 0.0038 - mae: 0.0501 - val_loss: 0.0042 - val_mae: 0.0509\n",
      "Epoch 16/1000\n",
      "13/13 [==============================] - 0s 10ms/step - loss: 0.0038 - mae: 0.0502 - val_loss: 0.0041 - val_mae: 0.0513\n",
      "Epoch 17/1000\n",
      "13/13 [==============================] - 0s 10ms/step - loss: 0.0037 - mae: 0.0497 - val_loss: 0.0046 - val_mae: 0.0516\n",
      "Epoch 18/1000\n",
      "13/13 [==============================] - 0s 10ms/step - loss: 0.0037 - mae: 0.0495 - val_loss: 0.0041 - val_mae: 0.0500\n",
      "Epoch 19/1000\n",
      "13/13 [==============================] - 0s 10ms/step - loss: 0.0037 - mae: 0.0496 - val_loss: 0.0040 - val_mae: 0.0510\n",
      "Epoch 20/1000\n",
      "13/13 [==============================] - 0s 10ms/step - loss: 0.0037 - mae: 0.0493 - val_loss: 0.0040 - val_mae: 0.0517\n",
      "Epoch 21/1000\n",
      "13/13 [==============================] - 0s 10ms/step - loss: 0.0036 - mae: 0.0490 - val_loss: 0.0040 - val_mae: 0.0503\n",
      "Epoch 22/1000\n",
      "13/13 [==============================] - 0s 11ms/step - loss: 0.0036 - mae: 0.0496 - val_loss: 0.0043 - val_mae: 0.0504\n",
      "Epoch 23/1000\n",
      "13/13 [==============================] - 0s 11ms/step - loss: 0.0036 - mae: 0.0489 - val_loss: 0.0039 - val_mae: 0.0505\n",
      "Epoch 24/1000\n",
      "13/13 [==============================] - 0s 11ms/step - loss: 0.0036 - mae: 0.0488 - val_loss: 0.0039 - val_mae: 0.0527\n",
      "Epoch 25/1000\n",
      "13/13 [==============================] - 0s 11ms/step - loss: 0.0036 - mae: 0.0490 - val_loss: 0.0040 - val_mae: 0.0501\n",
      "Epoch 26/1000\n",
      "13/13 [==============================] - 0s 10ms/step - loss: 0.0036 - mae: 0.0487 - val_loss: 0.0042 - val_mae: 0.0501\n",
      "Epoch 27/1000\n",
      "13/13 [==============================] - 0s 12ms/step - loss: 0.0036 - mae: 0.0487 - val_loss: 0.0042 - val_mae: 0.0495\n",
      "Epoch 28/1000\n",
      "13/13 [==============================] - 0s 13ms/step - loss: 0.0035 - mae: 0.0481 - val_loss: 0.0039 - val_mae: 0.0502\n",
      "Epoch 29/1000\n",
      "13/13 [==============================] - 0s 12ms/step - loss: 0.0035 - mae: 0.0485 - val_loss: 0.0040 - val_mae: 0.0490\n",
      "Epoch 30/1000\n",
      "13/13 [==============================] - 0s 14ms/step - loss: 0.0035 - mae: 0.0481 - val_loss: 0.0039 - val_mae: 0.0493\n",
      "Epoch 31/1000\n",
      "13/13 [==============================] - 0s 12ms/step - loss: 0.0036 - mae: 0.0486 - val_loss: 0.0041 - val_mae: 0.0510\n",
      "Epoch 32/1000\n",
      "13/13 [==============================] - 0s 12ms/step - loss: 0.0035 - mae: 0.0482 - val_loss: 0.0040 - val_mae: 0.0489\n",
      "Epoch 33/1000\n",
      "13/13 [==============================] - 0s 12ms/step - loss: 0.0034 - mae: 0.0473 - val_loss: 0.0039 - val_mae: 0.0490\n",
      "Epoch 34/1000\n",
      "13/13 [==============================] - 0s 11ms/step - loss: 0.0035 - mae: 0.0479 - val_loss: 0.0040 - val_mae: 0.0509\n",
      "Epoch 35/1000\n",
      "13/13 [==============================] - 0s 11ms/step - loss: 0.0035 - mae: 0.0481 - val_loss: 0.0039 - val_mae: 0.0508\n",
      "Epoch 36/1000\n",
      "13/13 [==============================] - 0s 12ms/step - loss: 0.0034 - mae: 0.0476 - val_loss: 0.0044 - val_mae: 0.0511\n",
      "Epoch 37/1000\n",
      "13/13 [==============================] - 0s 11ms/step - loss: 0.0034 - mae: 0.0470 - val_loss: 0.0038 - val_mae: 0.0498\n",
      "Epoch 38/1000\n",
      "13/13 [==============================] - 0s 11ms/step - loss: 0.0034 - mae: 0.0476 - val_loss: 0.0041 - val_mae: 0.0499\n",
      "Epoch 39/1000\n",
      "13/13 [==============================] - 0s 12ms/step - loss: 0.0034 - mae: 0.0473 - val_loss: 0.0037 - val_mae: 0.0505\n",
      "Epoch 40/1000\n",
      "13/13 [==============================] - 0s 12ms/step - loss: 0.0033 - mae: 0.0467 - val_loss: 0.0039 - val_mae: 0.0536\n",
      "Epoch 41/1000\n",
      "13/13 [==============================] - 0s 10ms/step - loss: 0.0034 - mae: 0.0474 - val_loss: 0.0039 - val_mae: 0.0490\n",
      "Epoch 42/1000\n",
      "13/13 [==============================] - 0s 11ms/step - loss: 0.0033 - mae: 0.0468 - val_loss: 0.0039 - val_mae: 0.0496\n",
      "Epoch 43/1000\n",
      "13/13 [==============================] - 0s 12ms/step - loss: 0.0034 - mae: 0.0472 - val_loss: 0.0038 - val_mae: 0.0488\n",
      "Epoch 44/1000\n",
      "13/13 [==============================] - 0s 11ms/step - loss: 0.0033 - mae: 0.0466 - val_loss: 0.0038 - val_mae: 0.0483\n",
      "Epoch 45/1000\n",
      "13/13 [==============================] - 0s 11ms/step - loss: 0.0034 - mae: 0.0472 - val_loss: 0.0041 - val_mae: 0.0506\n",
      "Epoch 46/1000\n",
      "13/13 [==============================] - 0s 11ms/step - loss: 0.0033 - mae: 0.0469 - val_loss: 0.0039 - val_mae: 0.0493\n",
      "Epoch 47/1000\n",
      "13/13 [==============================] - 0s 11ms/step - loss: 0.0034 - mae: 0.0473 - val_loss: 0.0037 - val_mae: 0.0484\n",
      "Epoch 48/1000\n",
      "13/13 [==============================] - 0s 12ms/step - loss: 0.0033 - mae: 0.0467 - val_loss: 0.0037 - val_mae: 0.0492\n",
      "Epoch 49/1000\n",
      "13/13 [==============================] - 0s 11ms/step - loss: 0.0033 - mae: 0.0469 - val_loss: 0.0038 - val_mae: 0.0522\n",
      "Epoch 50/1000\n",
      "13/13 [==============================] - 0s 12ms/step - loss: 0.0033 - mae: 0.0466 - val_loss: 0.0037 - val_mae: 0.0504\n",
      "Epoch 51/1000\n",
      "13/13 [==============================] - 0s 12ms/step - loss: 0.0033 - mae: 0.0466 - val_loss: 0.0040 - val_mae: 0.0485\n",
      "Epoch 52/1000\n",
      "13/13 [==============================] - 0s 11ms/step - loss: 0.0033 - mae: 0.0467 - val_loss: 0.0038 - val_mae: 0.0480\n",
      "Epoch 53/1000\n",
      "13/13 [==============================] - 0s 12ms/step - loss: 0.0033 - mae: 0.0463 - val_loss: 0.0037 - val_mae: 0.0497\n",
      "Epoch 54/1000\n",
      "13/13 [==============================] - 0s 11ms/step - loss: 0.0033 - mae: 0.0465 - val_loss: 0.0038 - val_mae: 0.0523\n",
      "Epoch 55/1000\n",
      "13/13 [==============================] - 0s 12ms/step - loss: 0.0033 - mae: 0.0467 - val_loss: 0.0037 - val_mae: 0.0493\n",
      "Epoch 56/1000\n",
      "13/13 [==============================] - 0s 12ms/step - loss: 0.0033 - mae: 0.0469 - val_loss: 0.0037 - val_mae: 0.0494\n",
      "Epoch 57/1000\n",
      "13/13 [==============================] - 0s 12ms/step - loss: 0.0032 - mae: 0.0462 - val_loss: 0.0040 - val_mae: 0.0487\n",
      "Epoch 58/1000\n",
      "13/13 [==============================] - 0s 12ms/step - loss: 0.0032 - mae: 0.0459 - val_loss: 0.0037 - val_mae: 0.0487\n",
      "Epoch 59/1000\n",
      "13/13 [==============================] - 0s 12ms/step - loss: 0.0032 - mae: 0.0465 - val_loss: 0.0038 - val_mae: 0.0493\n",
      "Epoch 60/1000\n",
      "13/13 [==============================] - 0s 11ms/step - loss: 0.0032 - mae: 0.0461 - val_loss: 0.0039 - val_mae: 0.0487\n",
      "Epoch 61/1000\n",
      "13/13 [==============================] - 0s 11ms/step - loss: 0.0032 - mae: 0.0465 - val_loss: 0.0039 - val_mae: 0.0501\n",
      "Epoch 62/1000\n"
     ]
    },
    {
     "name": "stdout",
     "output_type": "stream",
     "text": [
      "13/13 [==============================] - 0s 12ms/step - loss: 0.0032 - mae: 0.0458 - val_loss: 0.0042 - val_mae: 0.0497\n",
      "Epoch 63/1000\n",
      "13/13 [==============================] - 0s 11ms/step - loss: 0.0032 - mae: 0.0463 - val_loss: 0.0044 - val_mae: 0.0513\n",
      "Epoch 64/1000\n",
      "13/13 [==============================] - 0s 12ms/step - loss: 0.0032 - mae: 0.0455 - val_loss: 0.0036 - val_mae: 0.0497\n",
      "Epoch 65/1000\n",
      "13/13 [==============================] - 0s 12ms/step - loss: 0.0032 - mae: 0.0458 - val_loss: 0.0039 - val_mae: 0.0485\n",
      "Epoch 66/1000\n",
      "13/13 [==============================] - 0s 11ms/step - loss: 0.0032 - mae: 0.0458 - val_loss: 0.0039 - val_mae: 0.0493\n",
      "Epoch 67/1000\n",
      "13/13 [==============================] - 0s 11ms/step - loss: 0.0032 - mae: 0.0457 - val_loss: 0.0038 - val_mae: 0.0475\n",
      "Epoch 68/1000\n",
      "13/13 [==============================] - 0s 11ms/step - loss: 0.0032 - mae: 0.0455 - val_loss: 0.0037 - val_mae: 0.0520\n",
      "Epoch 69/1000\n",
      "13/13 [==============================] - 0s 11ms/step - loss: 0.0032 - mae: 0.0463 - val_loss: 0.0038 - val_mae: 0.0477\n",
      "Epoch 70/1000\n",
      "13/13 [==============================] - 0s 10ms/step - loss: 0.0032 - mae: 0.0457 - val_loss: 0.0045 - val_mae: 0.0509\n",
      "Epoch 71/1000\n",
      "13/13 [==============================] - 0s 11ms/step - loss: 0.0032 - mae: 0.0460 - val_loss: 0.0036 - val_mae: 0.0490\n",
      "Epoch 72/1000\n",
      "13/13 [==============================] - 0s 10ms/step - loss: 0.0032 - mae: 0.0457 - val_loss: 0.0037 - val_mae: 0.0479\n",
      "Epoch 73/1000\n",
      "13/13 [==============================] - 0s 11ms/step - loss: 0.0032 - mae: 0.0454 - val_loss: 0.0036 - val_mae: 0.0495\n",
      "Epoch 74/1000\n",
      "13/13 [==============================] - 0s 11ms/step - loss: 0.0032 - mae: 0.0461 - val_loss: 0.0036 - val_mae: 0.0488\n",
      "Epoch 75/1000\n",
      "13/13 [==============================] - 0s 12ms/step - loss: 0.0031 - mae: 0.0455 - val_loss: 0.0036 - val_mae: 0.0485\n",
      "Epoch 76/1000\n",
      "13/13 [==============================] - 0s 11ms/step - loss: 0.0032 - mae: 0.0458 - val_loss: 0.0037 - val_mae: 0.0494\n",
      "Epoch 77/1000\n",
      "13/13 [==============================] - 0s 12ms/step - loss: 0.0031 - mae: 0.0455 - val_loss: 0.0041 - val_mae: 0.0499\n",
      "Epoch 78/1000\n",
      "13/13 [==============================] - 0s 11ms/step - loss: 0.0032 - mae: 0.0457 - val_loss: 0.0039 - val_mae: 0.0480\n",
      "Epoch 79/1000\n",
      "13/13 [==============================] - 0s 11ms/step - loss: 0.0032 - mae: 0.0454 - val_loss: 0.0036 - val_mae: 0.0480\n",
      "Epoch 80/1000\n",
      "13/13 [==============================] - 0s 10ms/step - loss: 0.0031 - mae: 0.0456 - val_loss: 0.0040 - val_mae: 0.0485\n",
      "Epoch 81/1000\n",
      "13/13 [==============================] - 0s 11ms/step - loss: 0.0031 - mae: 0.0450 - val_loss: 0.0038 - val_mae: 0.0485\n",
      "Epoch 82/1000\n",
      "13/13 [==============================] - 0s 11ms/step - loss: 0.0032 - mae: 0.0459 - val_loss: 0.0036 - val_mae: 0.0475\n",
      "Epoch 83/1000\n",
      "13/13 [==============================] - 0s 11ms/step - loss: 0.0031 - mae: 0.0452 - val_loss: 0.0037 - val_mae: 0.0511\n",
      "Epoch 84/1000\n",
      "13/13 [==============================] - 0s 11ms/step - loss: 0.0031 - mae: 0.0454 - val_loss: 0.0037 - val_mae: 0.0480\n",
      "Epoch 85/1000\n",
      "13/13 [==============================] - 0s 11ms/step - loss: 0.0031 - mae: 0.0454 - val_loss: 0.0036 - val_mae: 0.0473\n",
      "Epoch 86/1000\n",
      "13/13 [==============================] - 0s 11ms/step - loss: 0.0032 - mae: 0.0455 - val_loss: 0.0038 - val_mae: 0.0477\n",
      "Epoch 87/1000\n",
      "13/13 [==============================] - 0s 11ms/step - loss: 0.0031 - mae: 0.0450 - val_loss: 0.0037 - val_mae: 0.0478\n",
      "Epoch 88/1000\n",
      "13/13 [==============================] - 0s 11ms/step - loss: 0.0031 - mae: 0.0453 - val_loss: 0.0040 - val_mae: 0.0485\n",
      "Epoch 89/1000\n",
      "13/13 [==============================] - 0s 10ms/step - loss: 0.0031 - mae: 0.0453 - val_loss: 0.0040 - val_mae: 0.0486\n",
      "Epoch 90/1000\n",
      "13/13 [==============================] - 0s 10ms/step - loss: 0.0031 - mae: 0.0450 - val_loss: 0.0037 - val_mae: 0.0474\n",
      "Epoch 91/1000\n",
      "13/13 [==============================] - 0s 10ms/step - loss: 0.0031 - mae: 0.0454 - val_loss: 0.0038 - val_mae: 0.0477\n",
      "Epoch 92/1000\n",
      "13/13 [==============================] - 0s 11ms/step - loss: 0.0031 - mae: 0.0449 - val_loss: 0.0039 - val_mae: 0.0485\n",
      "Epoch 93/1000\n",
      "13/13 [==============================] - 0s 11ms/step - loss: 0.0031 - mae: 0.0451 - val_loss: 0.0039 - val_mae: 0.0483\n",
      "Epoch 94/1000\n",
      "13/13 [==============================] - 0s 11ms/step - loss: 0.0031 - mae: 0.0450 - val_loss: 0.0036 - val_mae: 0.0480\n",
      "Epoch 95/1000\n",
      "13/13 [==============================] - 0s 12ms/step - loss: 0.0032 - mae: 0.0456 - val_loss: 0.0036 - val_mae: 0.0493\n"
     ]
    }
   ],
   "source": [
    "model = init_model_2()\n",
    "\n",
    "es = EarlyStopping(monitor='val_loss', mode='min', verbose=0, patience=10, restore_best_weights=True)\n",
    "\n",
    "history = model.fit(X_train_pad, y_train_pad,\n",
    "            validation_split=0.2,\n",
    "            epochs=1000, \n",
    "            batch_size=64,\n",
    "            callbacks=[es], verbose=1)"
   ]
  },
  {
   "cell_type": "code",
   "execution_count": 65,
   "metadata": {},
   "outputs": [
    {
     "data": {
      "text/plain": [
       "[0.005420436151325703, 0.056760404258966446]"
      ]
     },
     "execution_count": 65,
     "metadata": {},
     "output_type": "execute_result"
    }
   ],
   "source": [
    "model.evaluate(X_test_pad, y_test_pad, verbose=0)"
   ]
  },
  {
   "cell_type": "code",
   "execution_count": null,
   "metadata": {},
   "outputs": [],
   "source": []
  }
 ],
 "metadata": {
  "kernelspec": {
   "display_name": "Python 3",
   "language": "python",
   "name": "python3"
  },
  "language_info": {
   "codemirror_mode": {
    "name": "ipython",
    "version": 3
   },
   "file_extension": ".py",
   "mimetype": "text/x-python",
   "name": "python",
   "nbconvert_exporter": "python",
   "pygments_lexer": "ipython3",
   "version": "3.8.6"
  },
  "toc": {
   "base_numbering": 1,
   "nav_menu": {},
   "number_sections": false,
   "sideBar": true,
   "skip_h1_title": false,
   "title_cell": "Table of Contents",
   "title_sidebar": "Contents",
   "toc_cell": false,
   "toc_position": {},
   "toc_section_display": true,
   "toc_window_display": false
  },
  "varInspector": {
   "cols": {
    "lenName": 16,
    "lenType": 16,
    "lenVar": 40
   },
   "kernels_config": {
    "python": {
     "delete_cmd_postfix": "",
     "delete_cmd_prefix": "del ",
     "library": "var_list.py",
     "varRefreshCmd": "print(var_dic_list())"
    },
    "r": {
     "delete_cmd_postfix": ") ",
     "delete_cmd_prefix": "rm(",
     "library": "var_list.r",
     "varRefreshCmd": "cat(var_dic_list()) "
    }
   },
   "types_to_exclude": [
    "module",
    "function",
    "builtin_function_or_method",
    "instance",
    "_Feature"
   ],
   "window_display": false
  }
 },
 "nbformat": 4,
 "nbformat_minor": 2
}
